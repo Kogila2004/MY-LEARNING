{
  "nbformat": 4,
  "nbformat_minor": 0,
  "metadata": {
    "colab": {
      "provenance": [],
      "authorship_tag": "ABX9TyNFpJPyhr/k6RGz37xhMNG2",
      "include_colab_link": true
    },
    "kernelspec": {
      "name": "python3",
      "display_name": "Python 3"
    },
    "language_info": {
      "name": "python"
    }
  },
  "cells": [
    {
      "cell_type": "markdown",
      "metadata": {
        "id": "view-in-github",
        "colab_type": "text"
      },
      "source": [
        "<a href=\"https://colab.research.google.com/github/Kogila2004/MY-LEARNING/blob/main/Chatbot_using_NLP.ipynb\" target=\"_parent\"><img src=\"https://colab.research.google.com/assets/colab-badge.svg\" alt=\"Open In Colab\"/></a>"
      ]
    },
    {
      "cell_type": "code",
      "execution_count": 15,
      "metadata": {
        "colab": {
          "base_uri": "https://localhost:8080/"
        },
        "id": "2M9a3WkjJ8jh",
        "outputId": "a14cfca2-76c0-4d58-b160-e01c30b19036"
      },
      "outputs": [
        {
          "output_type": "stream",
          "name": "stdout",
          "text": [
            "Requirement already satisfied: nltk in /usr/local/lib/python3.12/dist-packages (3.9.1)\n",
            "Requirement already satisfied: spacy in /usr/local/lib/python3.12/dist-packages (3.8.7)\n",
            "Requirement already satisfied: click in /usr/local/lib/python3.12/dist-packages (from nltk) (8.2.1)\n",
            "Requirement already satisfied: joblib in /usr/local/lib/python3.12/dist-packages (from nltk) (1.5.2)\n",
            "Requirement already satisfied: regex>=2021.8.3 in /usr/local/lib/python3.12/dist-packages (from nltk) (2024.11.6)\n",
            "Requirement already satisfied: tqdm in /usr/local/lib/python3.12/dist-packages (from nltk) (4.67.1)\n",
            "Requirement already satisfied: spacy-legacy<3.1.0,>=3.0.11 in /usr/local/lib/python3.12/dist-packages (from spacy) (3.0.12)\n",
            "Requirement already satisfied: spacy-loggers<2.0.0,>=1.0.0 in /usr/local/lib/python3.12/dist-packages (from spacy) (1.0.5)\n",
            "Requirement already satisfied: murmurhash<1.1.0,>=0.28.0 in /usr/local/lib/python3.12/dist-packages (from spacy) (1.0.13)\n",
            "Requirement already satisfied: cymem<2.1.0,>=2.0.2 in /usr/local/lib/python3.12/dist-packages (from spacy) (2.0.11)\n",
            "Requirement already satisfied: preshed<3.1.0,>=3.0.2 in /usr/local/lib/python3.12/dist-packages (from spacy) (3.0.10)\n",
            "Requirement already satisfied: thinc<8.4.0,>=8.3.4 in /usr/local/lib/python3.12/dist-packages (from spacy) (8.3.6)\n",
            "Requirement already satisfied: wasabi<1.2.0,>=0.9.1 in /usr/local/lib/python3.12/dist-packages (from spacy) (1.1.3)\n",
            "Requirement already satisfied: srsly<3.0.0,>=2.4.3 in /usr/local/lib/python3.12/dist-packages (from spacy) (2.5.1)\n",
            "Requirement already satisfied: catalogue<2.1.0,>=2.0.6 in /usr/local/lib/python3.12/dist-packages (from spacy) (2.0.10)\n",
            "Requirement already satisfied: weasel<0.5.0,>=0.1.0 in /usr/local/lib/python3.12/dist-packages (from spacy) (0.4.1)\n",
            "Requirement already satisfied: typer<1.0.0,>=0.3.0 in /usr/local/lib/python3.12/dist-packages (from spacy) (0.17.4)\n",
            "Requirement already satisfied: numpy>=1.19.0 in /usr/local/lib/python3.12/dist-packages (from spacy) (2.0.2)\n",
            "Requirement already satisfied: requests<3.0.0,>=2.13.0 in /usr/local/lib/python3.12/dist-packages (from spacy) (2.32.4)\n",
            "Requirement already satisfied: pydantic!=1.8,!=1.8.1,<3.0.0,>=1.7.4 in /usr/local/lib/python3.12/dist-packages (from spacy) (2.11.7)\n",
            "Requirement already satisfied: jinja2 in /usr/local/lib/python3.12/dist-packages (from spacy) (3.1.6)\n",
            "Requirement already satisfied: setuptools in /usr/local/lib/python3.12/dist-packages (from spacy) (75.2.0)\n",
            "Requirement already satisfied: packaging>=20.0 in /usr/local/lib/python3.12/dist-packages (from spacy) (25.0)\n",
            "Requirement already satisfied: langcodes<4.0.0,>=3.2.0 in /usr/local/lib/python3.12/dist-packages (from spacy) (3.5.0)\n",
            "Requirement already satisfied: language-data>=1.2 in /usr/local/lib/python3.12/dist-packages (from langcodes<4.0.0,>=3.2.0->spacy) (1.3.0)\n",
            "Requirement already satisfied: annotated-types>=0.6.0 in /usr/local/lib/python3.12/dist-packages (from pydantic!=1.8,!=1.8.1,<3.0.0,>=1.7.4->spacy) (0.7.0)\n",
            "Requirement already satisfied: pydantic-core==2.33.2 in /usr/local/lib/python3.12/dist-packages (from pydantic!=1.8,!=1.8.1,<3.0.0,>=1.7.4->spacy) (2.33.2)\n",
            "Requirement already satisfied: typing-extensions>=4.12.2 in /usr/local/lib/python3.12/dist-packages (from pydantic!=1.8,!=1.8.1,<3.0.0,>=1.7.4->spacy) (4.15.0)\n",
            "Requirement already satisfied: typing-inspection>=0.4.0 in /usr/local/lib/python3.12/dist-packages (from pydantic!=1.8,!=1.8.1,<3.0.0,>=1.7.4->spacy) (0.4.1)\n",
            "Requirement already satisfied: charset_normalizer<4,>=2 in /usr/local/lib/python3.12/dist-packages (from requests<3.0.0,>=2.13.0->spacy) (3.4.3)\n",
            "Requirement already satisfied: idna<4,>=2.5 in /usr/local/lib/python3.12/dist-packages (from requests<3.0.0,>=2.13.0->spacy) (3.10)\n",
            "Requirement already satisfied: urllib3<3,>=1.21.1 in /usr/local/lib/python3.12/dist-packages (from requests<3.0.0,>=2.13.0->spacy) (2.5.0)\n",
            "Requirement already satisfied: certifi>=2017.4.17 in /usr/local/lib/python3.12/dist-packages (from requests<3.0.0,>=2.13.0->spacy) (2025.8.3)\n",
            "Requirement already satisfied: blis<1.4.0,>=1.3.0 in /usr/local/lib/python3.12/dist-packages (from thinc<8.4.0,>=8.3.4->spacy) (1.3.0)\n",
            "Requirement already satisfied: confection<1.0.0,>=0.0.1 in /usr/local/lib/python3.12/dist-packages (from thinc<8.4.0,>=8.3.4->spacy) (0.1.5)\n",
            "Requirement already satisfied: shellingham>=1.3.0 in /usr/local/lib/python3.12/dist-packages (from typer<1.0.0,>=0.3.0->spacy) (1.5.4)\n",
            "Requirement already satisfied: rich>=10.11.0 in /usr/local/lib/python3.12/dist-packages (from typer<1.0.0,>=0.3.0->spacy) (13.9.4)\n",
            "Requirement already satisfied: cloudpathlib<1.0.0,>=0.7.0 in /usr/local/lib/python3.12/dist-packages (from weasel<0.5.0,>=0.1.0->spacy) (0.22.0)\n",
            "Requirement already satisfied: smart-open<8.0.0,>=5.2.1 in /usr/local/lib/python3.12/dist-packages (from weasel<0.5.0,>=0.1.0->spacy) (7.3.1)\n",
            "Requirement already satisfied: MarkupSafe>=2.0 in /usr/local/lib/python3.12/dist-packages (from jinja2->spacy) (3.0.2)\n",
            "Requirement already satisfied: marisa-trie>=1.1.0 in /usr/local/lib/python3.12/dist-packages (from language-data>=1.2->langcodes<4.0.0,>=3.2.0->spacy) (1.3.1)\n",
            "Requirement already satisfied: markdown-it-py>=2.2.0 in /usr/local/lib/python3.12/dist-packages (from rich>=10.11.0->typer<1.0.0,>=0.3.0->spacy) (4.0.0)\n",
            "Requirement already satisfied: pygments<3.0.0,>=2.13.0 in /usr/local/lib/python3.12/dist-packages (from rich>=10.11.0->typer<1.0.0,>=0.3.0->spacy) (2.19.2)\n",
            "Requirement already satisfied: wrapt in /usr/local/lib/python3.12/dist-packages (from smart-open<8.0.0,>=5.2.1->weasel<0.5.0,>=0.1.0->spacy) (1.17.3)\n",
            "Requirement already satisfied: mdurl~=0.1 in /usr/local/lib/python3.12/dist-packages (from markdown-it-py>=2.2.0->rich>=10.11.0->typer<1.0.0,>=0.3.0->spacy) (0.1.2)\n",
            "Collecting en-core-web-md==3.8.0\n",
            "  Downloading https://github.com/explosion/spacy-models/releases/download/en_core_web_md-3.8.0/en_core_web_md-3.8.0-py3-none-any.whl (33.5 MB)\n",
            "\u001b[2K     \u001b[90m━━━━━━━━━━━━━━━━━━━━━━━━━━━━━━━━━━━━━━━━\u001b[0m \u001b[32m33.5/33.5 MB\u001b[0m \u001b[31m37.3 MB/s\u001b[0m eta \u001b[36m0:00:00\u001b[0m\n",
            "\u001b[?25hInstalling collected packages: en-core-web-md\n",
            "Successfully installed en-core-web-md-3.8.0\n",
            "\u001b[38;5;2m✔ Download and installation successful\u001b[0m\n",
            "You can now load the package via spacy.load('en_core_web_md')\n",
            "\u001b[38;5;3m⚠ Restart to reload dependencies\u001b[0m\n",
            "If you are in a Jupyter or Colab notebook, you may need to restart Python in\n",
            "order to load all the package's dependencies. You can do this by selecting the\n",
            "'Restart kernel' or 'Restart runtime' option.\n"
          ]
        },
        {
          "output_type": "stream",
          "name": "stderr",
          "text": [
            "[nltk_data] Downloading package punkt to /root/nltk_data...\n",
            "[nltk_data]   Package punkt is already up-to-date!\n",
            "[nltk_data] Downloading package punkt_tab to /root/nltk_data...\n",
            "[nltk_data]   Unzipping tokenizers/punkt_tab.zip.\n",
            "[nltk_data] Downloading package wordnet to /root/nltk_data...\n",
            "[nltk_data]   Package wordnet is already up-to-date!\n",
            "[nltk_data] Downloading package stopwords to /root/nltk_data...\n",
            "[nltk_data]   Package stopwords is already up-to-date!\n"
          ]
        }
      ],
      "source": [
        "# --------------------------------------------\n",
        "# STEP 1: Install & Import Required Libraries\n",
        "# --------------------------------------------\n",
        "# Install required libraries\n",
        "!pip install nltk spacy\n",
        "!python -m spacy download en_core_web_md  # use medium model for vectors\n",
        "\n",
        "# Import libraries\n",
        "import random\n",
        "import spacy\n",
        "import nltk\n",
        "from nltk.corpus import stopwords\n",
        "from nltk.stem import WordNetLemmatizer\n",
        "\n",
        "# Download required NLTK resources\n",
        "nltk.download(\"punkt\")\n",
        "nltk.download(\"punkt_tab\")   # FIX for new NLTK versions\n",
        "nltk.download(\"wordnet\")\n",
        "nltk.download(\"stopwords\")\n",
        "\n",
        "# Load spaCy medium model (with word vectors)\n",
        "nlp = spacy.load(\"en_core_web_md\")\n",
        "\n",
        "\n"
      ]
    },
    {
      "cell_type": "code",
      "source": [
        "# --------------------------------------------\n",
        "# STEP 2: Text Preprocessing Function\n",
        "# --------------------------------------------\n",
        "def preprocess(text):\n",
        "    \"\"\"\n",
        "    Cleans and preprocesses user input:\n",
        "    - Converts to lowercase\n",
        "    - Tokenizes text\n",
        "    - Removes stopwords and punctuation\n",
        "    - Lemmatizes words\n",
        "    Returns a list of processed tokens.\n",
        "    \"\"\"\n",
        "    tokens = nltk.word_tokenize(text.lower())\n",
        "    tokens = [lemmatizer.lemmatize(word) for word in tokens if word.isalnum() and word not in stop_words]\n",
        "    return tokens"
      ],
      "metadata": {
        "id": "HsvqBGE7L9Ho"
      },
      "execution_count": 16,
      "outputs": []
    },
    {
      "cell_type": "code",
      "source": [
        "# --------------------------------------------\n",
        "# STEP 3: Define Intents (Knowledge Base)\n",
        "# --------------------------------------------\n",
        "intents = {\n",
        "    \"greeting\": {\n",
        "        \"patterns\": [\"hello\", \"hi\", \"hey\", \"good morning\", \"good evening\"],\n",
        "        \"responses\": [\"Hello! 😊\", \"Hi there 👋\", \"Hey! How’s your day going?\"]\n",
        "    },\n",
        "    \"goodbye\": {\n",
        "        \"patterns\": [\"bye\", \"goodbye\", \"see you\", \"quit\"],\n",
        "        \"responses\": [\"Goodbye! 👋\", \"See you soon 😊\", \"Take care and have a great day!\"]\n",
        "    },\n",
        "    \"thanks\": {\n",
        "        \"patterns\": [\"thanks\", \"thank you\", \"thx\", \"much appreciated\"],\n",
        "        \"responses\": [\"You're welcome! 🙌\", \"No problem 👍\", \"Happy to help 😃\"]\n",
        "    },\n",
        "    \"weather\": {\n",
        "        \"patterns\": [\"weather\", \"temperature\", \"forecast\", \"rain\", \"sunny\", \"is it hot\", \"is it cold\", \"will it rain\"],\n",
        "        \"responses\": [\"It looks sunny today 🌞\", \"Might rain later, take an umbrella ☔\", \"Weather is pleasant outside 🌤️\"]\n",
        "    },\n",
        "    \"food\": {\n",
        "        \"patterns\": [\"hungry\", \"eat\", \"food\", \"restaurant\", \"breakfast\", \"lunch\", \"dinner\"],\n",
        "        \"responses\": [\"You should grab something tasty 🍕\", \"How about some fresh fruits 🍎\", \"Maybe try ordering from your favorite restaurant 🍔\"]\n",
        "    },\n",
        "    \"time\": {\n",
        "        \"patterns\": [\"time\", \"what time\", \"current time\", \"tell me the time\"],\n",
        "        \"responses\": [\"Sorry, I can’t show the exact time in Colab ⏰, but you can check your system clock!\"]\n",
        "    },\n",
        "    \"jokes\": {\n",
        "        \"patterns\": [\"joke\", \"funny\", \"make me laugh\"],\n",
        "        \"responses\": [\"Why don’t skeletons fight? They don’t have the guts 😂\", \"I tried to catch fog yesterday... Mist! 🌫️\"]\n",
        "    },\n",
        "    \"smalltalk\": {\n",
        "        \"patterns\": [\"how are you\", \"how’s it going\", \"what’s up\", \"are you okay\"],\n",
        "        \"responses\": [\"I’m doing great, thanks for asking 🤖\", \"All systems running smoothly ⚡\", \"I’m good! How about you?\"]\n",
        "    },\n",
        "    \"default\": {\n",
        "        \"patterns\": [],\n",
        "        \"responses\": [\"Sorry, I didn’t quite get that 🤔. Can you rephrase?\",\n",
        "                      \"Hmm, I’m not sure about that. Try asking differently!\"]\n",
        "    }\n",
        "}\n"
      ],
      "metadata": {
        "id": "nI_-V-llMFDi"
      },
      "execution_count": 21,
      "outputs": []
    },
    {
      "cell_type": "code",
      "source": [
        "# --------------------------------------------\n",
        "# STEP 4: Intent Detection using spaCy Similarity\n",
        "# --------------------------------------------\n",
        "def get_intent(user_input, threshold=0.4):\n",
        "    \"\"\"\n",
        "    Detects intent of user input.\n",
        "    Uses BOTH:\n",
        "    - spaCy similarity for semantic understanding\n",
        "    - keyword matching fallback for stronger intent recognition\n",
        "    \"\"\"\n",
        "    doc = nlp(user_input)\n",
        "    best_intent = \"default\"\n",
        "    best_score = 0.0\n",
        "\n",
        "    # 1. spaCy similarity check\n",
        "    for intent, data in intents.items():\n",
        "        for pattern in data[\"patterns\"]:\n",
        "            similarity = doc.similarity(nlp(pattern))\n",
        "            if similarity > best_score and similarity >= threshold:\n",
        "                best_intent = intent\n",
        "                best_score = similarity\n",
        "\n",
        "    # 2. Keyword fallback check\n",
        "    tokens = preprocess(user_input)\n",
        "    for intent, data in intents.items():\n",
        "        for pattern in data[\"patterns\"]:\n",
        "            pattern_tokens = preprocess(pattern)\n",
        "            if any(word in tokens for word in pattern_tokens):\n",
        "                return intent  # keyword match wins\n",
        "\n",
        "    return best_intent\n",
        "\n",
        "\n"
      ],
      "metadata": {
        "id": "4E8PdGHQMVqS"
      },
      "execution_count": 18,
      "outputs": []
    },
    {
      "cell_type": "code",
      "source": [
        "# --------------------------------------------\n",
        "# STEP 5: Response Generator\n",
        "# --------------------------------------------\n",
        "def chatbot_response(user_input):\n",
        "    \"\"\"\n",
        "    Generates chatbot response based on detected intent.\n",
        "    Randomly selects one response from the matching intent.\n",
        "    \"\"\"\n",
        "    intent = get_intent(user_input)\n",
        "    return random.choice(intents[intent][\"responses\"])"
      ],
      "metadata": {
        "id": "_WOAnbpqMda-"
      },
      "execution_count": 19,
      "outputs": []
    },
    {
      "cell_type": "code",
      "source": [
        "# --------------------------------------------\n",
        "# STEP 6: Interactive Chat\n",
        "# --------------------------------------------\n",
        "def chat():\n",
        "    \"\"\"\n",
        "    Starts chatbot interaction.\n",
        "    User can type queries, and bot replies until 'quit' is typed.\n",
        "    \"\"\"\n",
        "    print(\"🤖 Chatbot: Hi! Type 'quit' to exit.\")\n",
        "    while True:\n",
        "        user_input = input(\"You: \")\n",
        "        if user_input.lower() in [\"quit\", \"exit\", \"bye\"]:\n",
        "            print(\"🤖 Chatbot:\", random.choice(intents[\"goodbye\"][\"responses\"]))\n",
        "            break\n",
        "        response = chatbot_response(user_input)\n",
        "        print(\"🤖 Chatbot:\", response)\n",
        "\n",
        "\n",
        "# Run chatbot\n",
        "chat()"
      ],
      "metadata": {
        "colab": {
          "base_uri": "https://localhost:8080/"
        },
        "id": "AiORNpWlMkOo",
        "outputId": "f605be9a-31c4-4400-c422-54cb73357afb"
      },
      "execution_count": 22,
      "outputs": [
        {
          "output_type": "stream",
          "name": "stdout",
          "text": [
            "🤖 Chatbot: Hi! Type 'quit' to exit.\n",
            "You: hello\n",
            "🤖 Chatbot: Hello! 😊\n",
            "You: I am hungry\n",
            "🤖 Chatbot: Maybe try ordering from your favorite restaurant 🍔\n",
            "You: tell me a joke\n",
            "🤖 Chatbot: Sorry, I can’t show the exact time in Colab ⏰, but you can check your system clock!\n",
            "You: how are you\n",
            "🤖 Chatbot: All systems running smoothly ⚡\n",
            "You: thanks\n",
            "🤖 Chatbot: No problem 👍\n",
            "You: bye\n",
            "🤖 Chatbot: See you soon 😊\n"
          ]
        }
      ]
    }
  ]
}